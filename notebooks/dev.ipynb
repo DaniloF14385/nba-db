{
 "cells": [
  {
   "cell_type": "markdown",
   "id": "12830b2c-e3b3-4627-a0f7-33b1f4330784",
   "metadata": {},
   "source": [
    "# Development Notebook"
   ]
  },
  {
   "cell_type": "markdown",
   "id": "dae8c43f-f517-425e-a66c-98ae810974ed",
   "metadata": {},
   "source": [
    "## Setup"
   ]
  },
  {
   "cell_type": "code",
   "execution_count": 1,
   "id": "8b593580-8b4e-4f68-a5fd-3d6984fe11a8",
   "metadata": {},
   "outputs": [
    {
     "name": "stdout",
     "output_type": "stream",
     "text": [
      "/Users/wyattwalsh/Documents/Projects/nba-db\n"
     ]
    }
   ],
   "source": [
    "%load_ext autoreload\n",
    "%autoreload 2\n",
    "\n",
    "%cd .."
   ]
  },
  {
   "cell_type": "code",
   "execution_count": 2,
   "id": "1f4f5d65-9016-4970-b26b-c9470a2c9368",
   "metadata": {
    "tags": []
   },
   "outputs": [],
   "source": [
    "import sqlalchemy\n",
    "conn_str = \"sqlite:///nba/nba.sqlite\"\n",
    "sqlalchemy.create_engine(conn_str)\n",
    "%load_ext sql\n",
    "%sql $conn_str"
   ]
  },
  {
   "cell_type": "code",
   "execution_count": 16,
   "id": "bfd1922a-fb44-4bdb-a36a-dd8abe842526",
   "metadata": {
    "tags": []
   },
   "outputs": [
    {
     "data": {
      "text/plain": [
       "True"
      ]
     },
     "execution_count": 16,
     "metadata": {},
     "output_type": "execute_result"
    }
   ],
   "source": [
    "from dotenv import load_dotenv\n",
    "load_dotenv() "
   ]
  },
  {
   "cell_type": "code",
   "execution_count": 14,
   "id": "4ef38e08-3af4-4d04-b77d-10c9b6b320c5",
   "metadata": {},
   "outputs": [],
   "source": [
    "from nba_db.extract import get_players, get_teams, get_league_game_log_all\n",
    "from nba_db.utils import get_db_conn, get_proxies, dump_db, upload_new_db_version\n",
    "from nba_db.extract import (\n",
    "    get_player_info, \n",
    "    get_teams_details, \n",
    "    get_box_score_summaries, \n",
    "    get_play_by_play, \n",
    "    get_draft_combine_stats,\n",
    "    get_draft_history,\n",
    "    get_team_info_common\n",
    ")\n",
    "\n",
    "\n",
    "import os\n",
    "\n",
    "import pandas as pd\n",
    "\n",
    "pd.set_option('display.max_rows', 500)\n",
    "pd.set_option('display.max_columns', 500)\n",
    "\n",
    "# os.mkdir(\"basketball\")"
   ]
  },
  {
   "cell_type": "markdown",
   "id": "c3dbaead-9d73-4219-b985-26101445db57",
   "metadata": {},
   "source": [
    "## Development"
   ]
  },
  {
   "cell_type": "code",
   "execution_count": 4,
   "id": "a11f8e20-53b8-416f-a55f-404fc3aa3101",
   "metadata": {},
   "outputs": [
    {
     "name": "stdout",
     "output_type": "stream",
     "text": [
      "2023-02-28 23:23:39-INFO-nba_db_logger::utils|get_db_conn-57:: Connecting to database...\n",
      "2023-02-28 23:23:39-INFO-nba_db_logger::utils|get_db_conn-60:: Connected to database. Returning connection object...\n"
     ]
    },
    {
     "data": {
      "text/plain": [
       "<sqlite3.Connection at 0x1191f7e20>"
      ]
     },
     "execution_count": 4,
     "metadata": {},
     "output_type": "execute_result"
    }
   ],
   "source": [
    "conn = get_db_conn()\n",
    "conn"
   ]
  },
  {
   "cell_type": "code",
   "execution_count": 5,
   "id": "ca079e29-dda7-4ee4-88a3-1979de775522",
   "metadata": {},
   "outputs": [
    {
     "name": "stdout",
     "output_type": "stream",
     "text": [
      "2023-02-28 23:23:40-INFO-nba_db_logger::utils|get_proxies-43:: Retrieving proxies...\n",
      "2023-02-28 23:23:40-INFO-nba_db_logger::utils|get_proxies-48:: Found 3523 proxies. Checking proxies...\n",
      "2023-02-28 23:25:19-INFO-nba_db_logger::utils|get_proxies-52:: Found 702 valid proxies. Returning proxies...\n"
     ]
    }
   ],
   "source": [
    "proxies = get_proxies()"
   ]
  },
  {
   "cell_type": "code",
   "execution_count": null,
   "id": "c8a12f9a-5a75-436c-bac0-e1f9812da3f4",
   "metadata": {
    "tags": []
   },
   "outputs": [],
   "source": [
    "get_players(True, conn);"
   ]
  },
  {
   "cell_type": "code",
   "execution_count": null,
   "id": "f70822a0-0828-47b0-9962-dbc8c62c8bdc",
   "metadata": {},
   "outputs": [],
   "source": [
    "get_teams(True, conn);"
   ]
  },
  {
   "cell_type": "code",
   "execution_count": null,
   "id": "11a10af5-78af-42b4-894c-6f24765742d6",
   "metadata": {},
   "outputs": [],
   "source": [
    "get_league_game_log_all(proxies, conn);"
   ]
  },
  {
   "cell_type": "code",
   "execution_count": 6,
   "id": "44ba0bca-787c-4f24-b0bd-b20afd8fc623",
   "metadata": {},
   "outputs": [
    {
     "name": "stdout",
     "output_type": "stream",
     "text": [
      " * sqlite:///nba/nba.sqlite\n",
      "Done.\n"
     ]
    },
    {
     "data": {
      "text/html": [
       "<table>\n",
       "    <tr>\n",
       "        <th>count(*)</th>\n",
       "    </tr>\n",
       "    <tr>\n",
       "        <td>62266</td>\n",
       "    </tr>\n",
       "</table>"
      ],
      "text/plain": [
       "[(62266,)]"
      ]
     },
     "execution_count": 6,
     "metadata": {},
     "output_type": "execute_result"
    }
   ],
   "source": [
    "%%sql \n",
    "select count(*) from (select distinct game_id from game) as games"
   ]
  },
  {
   "cell_type": "code",
   "execution_count": 7,
   "id": "9ce1754a-ab58-483f-be50-b8f87ded447f",
   "metadata": {
    "tags": []
   },
   "outputs": [
    {
     "name": "stdout",
     "output_type": "stream",
     "text": [
      "2023-02-27 07:49:19-INFO-backetball_db_logger::extract|get_player_info-196:: Successfully retrieved common player info for all players.\n"
     ]
    }
   ],
   "source": [
    "get_player_info(proxies, True, conn);"
   ]
  },
  {
   "cell_type": "code",
   "execution_count": 8,
   "id": "8d71f2bc-1b72-45fe-bea9-0352fb3b36fa",
   "metadata": {},
   "outputs": [],
   "source": [
    "get_teams_details(proxies, True, conn);"
   ]
  },
  {
   "cell_type": "code",
   "execution_count": 7,
   "id": "162aa65b-3dd8-4fbb-a628-ac25e7692fd3",
   "metadata": {
    "tags": []
   },
   "outputs": [],
   "source": [
    "game_ids = pd.read_sql(\"SELECT game_id FROM game\", conn).game_id.to_list()\n",
    "# get_box_score_summaries(game_ids, proxies, True, conn);"
   ]
  },
  {
   "cell_type": "code",
   "execution_count": 8,
   "id": "95989504-141a-4b87-863f-46897fb3bd74",
   "metadata": {},
   "outputs": [],
   "source": [
    "get_play_by_play(game_ids, proxies, True, conn);"
   ]
  },
  {
   "cell_type": "code",
   "execution_count": 9,
   "id": "5c2ea9c5-1e46-4b7a-b904-2dd24fbc7132",
   "metadata": {
    "tags": []
   },
   "outputs": [
    {
     "name": "stdout",
     "output_type": "stream",
     "text": [
      " * sqlite:///nba/nba.sqlite\n",
      "Done.\n"
     ]
    },
    {
     "data": {
      "text/html": [
       "<table>\n",
       "    <tr>\n",
       "        <th>count(*)</th>\n",
       "    </tr>\n",
       "    <tr>\n",
       "        <td>28998</td>\n",
       "    </tr>\n",
       "</table>"
      ],
      "text/plain": [
       "[(28998,)]"
      ]
     },
     "execution_count": 9,
     "metadata": {},
     "output_type": "execute_result"
    }
   ],
   "source": [
    "%%sql \n",
    "select count(*) from (select distinct game_id from play_by_play) as games"
   ]
  },
  {
   "cell_type": "code",
   "execution_count": 6,
   "id": "c0e86a57-a699-4880-92cf-b43c431154f5",
   "metadata": {
    "tags": []
   },
   "outputs": [
    {
     "data": {
      "text/html": [
       "<div>\n",
       "<style scoped>\n",
       "    .dataframe tbody tr th:only-of-type {\n",
       "        vertical-align: middle;\n",
       "    }\n",
       "\n",
       "    .dataframe tbody tr th {\n",
       "        vertical-align: top;\n",
       "    }\n",
       "\n",
       "    .dataframe thead th {\n",
       "        text-align: right;\n",
       "    }\n",
       "</style>\n",
       "<table border=\"1\" class=\"dataframe\">\n",
       "  <thead>\n",
       "    <tr style=\"text-align: right;\">\n",
       "      <th></th>\n",
       "      <th>season</th>\n",
       "      <th>player_id</th>\n",
       "      <th>first_name</th>\n",
       "      <th>last_name</th>\n",
       "      <th>player_name</th>\n",
       "      <th>position</th>\n",
       "      <th>height_wo_shoes</th>\n",
       "      <th>height_wo_shoes_ft_in</th>\n",
       "      <th>height_w_shoes</th>\n",
       "      <th>height_w_shoes_ft_in</th>\n",
       "      <th>weight</th>\n",
       "      <th>wingspan</th>\n",
       "      <th>wingspan_ft_in</th>\n",
       "      <th>standing_reach</th>\n",
       "      <th>standing_reach_ft_in</th>\n",
       "      <th>body_fat_pct</th>\n",
       "      <th>hand_length</th>\n",
       "      <th>hand_width</th>\n",
       "      <th>standing_vertical_leap</th>\n",
       "      <th>max_vertical_leap</th>\n",
       "      <th>lane_agility_time</th>\n",
       "      <th>modified_lane_agility_time</th>\n",
       "      <th>three_quarter_sprint</th>\n",
       "      <th>bench_press</th>\n",
       "      <th>spot_fifteen_corner_left</th>\n",
       "      <th>spot_fifteen_break_left</th>\n",
       "      <th>spot_fifteen_top_key</th>\n",
       "      <th>spot_fifteen_break_right</th>\n",
       "      <th>spot_fifteen_corner_right</th>\n",
       "      <th>spot_college_corner_left</th>\n",
       "      <th>spot_college_break_left</th>\n",
       "      <th>spot_college_top_key</th>\n",
       "      <th>spot_college_break_right</th>\n",
       "      <th>spot_college_corner_right</th>\n",
       "      <th>spot_nba_corner_left</th>\n",
       "      <th>spot_nba_break_left</th>\n",
       "      <th>spot_nba_top_key</th>\n",
       "      <th>spot_nba_break_right</th>\n",
       "      <th>spot_nba_corner_right</th>\n",
       "      <th>off_drib_fifteen_break_left</th>\n",
       "      <th>off_drib_fifteen_top_key</th>\n",
       "      <th>off_drib_fifteen_break_right</th>\n",
       "      <th>off_drib_college_break_left</th>\n",
       "      <th>off_drib_college_top_key</th>\n",
       "      <th>off_drib_college_break_right</th>\n",
       "      <th>on_move_fifteen</th>\n",
       "      <th>on_move_college</th>\n",
       "    </tr>\n",
       "  </thead>\n",
       "  <tbody>\n",
       "    <tr>\n",
       "      <th>0</th>\n",
       "      <td>2000</td>\n",
       "      <td>2124</td>\n",
       "      <td>Malik</td>\n",
       "      <td>Allen</td>\n",
       "      <td>Malik Allen</td>\n",
       "      <td>PF-C</td>\n",
       "      <td>80.25</td>\n",
       "      <td>6' 8.25''</td>\n",
       "      <td>NaN</td>\n",
       "      <td>None</td>\n",
       "      <td>271</td>\n",
       "      <td>86.50</td>\n",
       "      <td>7' 2.5''</td>\n",
       "      <td>109.0</td>\n",
       "      <td>9' 1''</td>\n",
       "      <td>NaN</td>\n",
       "      <td>NaN</td>\n",
       "      <td>NaN</td>\n",
       "      <td>25.5</td>\n",
       "      <td>29.0</td>\n",
       "      <td>11.83</td>\n",
       "      <td>NaN</td>\n",
       "      <td>3.38</td>\n",
       "      <td>13.0</td>\n",
       "      <td>NaN</td>\n",
       "      <td>NaN</td>\n",
       "      <td>NaN</td>\n",
       "      <td>NaN</td>\n",
       "      <td>NaN</td>\n",
       "      <td>NaN</td>\n",
       "      <td>NaN</td>\n",
       "      <td>NaN</td>\n",
       "      <td>NaN</td>\n",
       "      <td>NaN</td>\n",
       "      <td>NaN</td>\n",
       "      <td>NaN</td>\n",
       "      <td>NaN</td>\n",
       "      <td>NaN</td>\n",
       "      <td>NaN</td>\n",
       "      <td>NaN</td>\n",
       "      <td>NaN</td>\n",
       "      <td>NaN</td>\n",
       "      <td>NaN</td>\n",
       "      <td>NaN</td>\n",
       "      <td>NaN</td>\n",
       "      <td>NaN</td>\n",
       "      <td>NaN</td>\n",
       "    </tr>\n",
       "    <tr>\n",
       "      <th>1</th>\n",
       "      <td>2000</td>\n",
       "      <td>12019</td>\n",
       "      <td>Harold</td>\n",
       "      <td>Arceneaux</td>\n",
       "      <td>Harold Arceneaux</td>\n",
       "      <td>SG-SF</td>\n",
       "      <td>76.50</td>\n",
       "      <td>6' 4.5''</td>\n",
       "      <td>NaN</td>\n",
       "      <td>None</td>\n",
       "      <td>219</td>\n",
       "      <td>80.50</td>\n",
       "      <td>6' 8.5''</td>\n",
       "      <td>103.0</td>\n",
       "      <td>8' 7''</td>\n",
       "      <td>NaN</td>\n",
       "      <td>NaN</td>\n",
       "      <td>NaN</td>\n",
       "      <td>NaN</td>\n",
       "      <td>29.0</td>\n",
       "      <td>13.80</td>\n",
       "      <td>NaN</td>\n",
       "      <td>NaN</td>\n",
       "      <td>0.0</td>\n",
       "      <td>NaN</td>\n",
       "      <td>NaN</td>\n",
       "      <td>NaN</td>\n",
       "      <td>NaN</td>\n",
       "      <td>NaN</td>\n",
       "      <td>NaN</td>\n",
       "      <td>NaN</td>\n",
       "      <td>NaN</td>\n",
       "      <td>NaN</td>\n",
       "      <td>NaN</td>\n",
       "      <td>NaN</td>\n",
       "      <td>NaN</td>\n",
       "      <td>NaN</td>\n",
       "      <td>NaN</td>\n",
       "      <td>NaN</td>\n",
       "      <td>NaN</td>\n",
       "      <td>NaN</td>\n",
       "      <td>NaN</td>\n",
       "      <td>NaN</td>\n",
       "      <td>NaN</td>\n",
       "      <td>NaN</td>\n",
       "      <td>NaN</td>\n",
       "      <td>NaN</td>\n",
       "    </tr>\n",
       "    <tr>\n",
       "      <th>2</th>\n",
       "      <td>2000</td>\n",
       "      <td>12020</td>\n",
       "      <td>Lamont</td>\n",
       "      <td>Barnes</td>\n",
       "      <td>Lamont Barnes</td>\n",
       "      <td>PF-C</td>\n",
       "      <td>80.50</td>\n",
       "      <td>6' 8.5''</td>\n",
       "      <td>NaN</td>\n",
       "      <td>None</td>\n",
       "      <td>235.5</td>\n",
       "      <td>87.50</td>\n",
       "      <td>7' 3.5''</td>\n",
       "      <td>108.0</td>\n",
       "      <td>9' 0''</td>\n",
       "      <td>NaN</td>\n",
       "      <td>NaN</td>\n",
       "      <td>NaN</td>\n",
       "      <td>28.0</td>\n",
       "      <td>29.5</td>\n",
       "      <td>12.30</td>\n",
       "      <td>NaN</td>\n",
       "      <td>3.40</td>\n",
       "      <td>10.0</td>\n",
       "      <td>NaN</td>\n",
       "      <td>NaN</td>\n",
       "      <td>NaN</td>\n",
       "      <td>NaN</td>\n",
       "      <td>NaN</td>\n",
       "      <td>NaN</td>\n",
       "      <td>NaN</td>\n",
       "      <td>NaN</td>\n",
       "      <td>NaN</td>\n",
       "      <td>NaN</td>\n",
       "      <td>NaN</td>\n",
       "      <td>NaN</td>\n",
       "      <td>NaN</td>\n",
       "      <td>NaN</td>\n",
       "      <td>NaN</td>\n",
       "      <td>NaN</td>\n",
       "      <td>NaN</td>\n",
       "      <td>NaN</td>\n",
       "      <td>NaN</td>\n",
       "      <td>NaN</td>\n",
       "      <td>NaN</td>\n",
       "      <td>NaN</td>\n",
       "      <td>NaN</td>\n",
       "    </tr>\n",
       "    <tr>\n",
       "      <th>3</th>\n",
       "      <td>2000</td>\n",
       "      <td>12131</td>\n",
       "      <td>Mario</td>\n",
       "      <td>Bland</td>\n",
       "      <td>Mario Bland</td>\n",
       "      <td>PF</td>\n",
       "      <td>77.50</td>\n",
       "      <td>6' 5.5''</td>\n",
       "      <td>NaN</td>\n",
       "      <td>None</td>\n",
       "      <td>287</td>\n",
       "      <td>84.00</td>\n",
       "      <td>7' 0''</td>\n",
       "      <td>103.0</td>\n",
       "      <td>8' 7''</td>\n",
       "      <td>NaN</td>\n",
       "      <td>NaN</td>\n",
       "      <td>NaN</td>\n",
       "      <td>27.0</td>\n",
       "      <td>31.0</td>\n",
       "      <td>13.04</td>\n",
       "      <td>NaN</td>\n",
       "      <td>3.47</td>\n",
       "      <td>15.0</td>\n",
       "      <td>NaN</td>\n",
       "      <td>NaN</td>\n",
       "      <td>NaN</td>\n",
       "      <td>NaN</td>\n",
       "      <td>NaN</td>\n",
       "      <td>NaN</td>\n",
       "      <td>NaN</td>\n",
       "      <td>NaN</td>\n",
       "      <td>NaN</td>\n",
       "      <td>NaN</td>\n",
       "      <td>NaN</td>\n",
       "      <td>NaN</td>\n",
       "      <td>NaN</td>\n",
       "      <td>NaN</td>\n",
       "      <td>NaN</td>\n",
       "      <td>NaN</td>\n",
       "      <td>NaN</td>\n",
       "      <td>NaN</td>\n",
       "      <td>NaN</td>\n",
       "      <td>NaN</td>\n",
       "      <td>NaN</td>\n",
       "      <td>NaN</td>\n",
       "      <td>NaN</td>\n",
       "    </tr>\n",
       "    <tr>\n",
       "      <th>4</th>\n",
       "      <td>2000</td>\n",
       "      <td>2056</td>\n",
       "      <td>Primoz</td>\n",
       "      <td>Brezec</td>\n",
       "      <td>Primoz Brezec</td>\n",
       "      <td>C</td>\n",
       "      <td>84.75</td>\n",
       "      <td>7' 0.75''</td>\n",
       "      <td>NaN</td>\n",
       "      <td>None</td>\n",
       "      <td>243</td>\n",
       "      <td>86.00</td>\n",
       "      <td>7' 2''</td>\n",
       "      <td>110.0</td>\n",
       "      <td>9' 2''</td>\n",
       "      <td>NaN</td>\n",
       "      <td>NaN</td>\n",
       "      <td>NaN</td>\n",
       "      <td>26.0</td>\n",
       "      <td>29.5</td>\n",
       "      <td>11.53</td>\n",
       "      <td>NaN</td>\n",
       "      <td>3.55</td>\n",
       "      <td>NaN</td>\n",
       "      <td>NaN</td>\n",
       "      <td>NaN</td>\n",
       "      <td>NaN</td>\n",
       "      <td>NaN</td>\n",
       "      <td>NaN</td>\n",
       "      <td>NaN</td>\n",
       "      <td>NaN</td>\n",
       "      <td>NaN</td>\n",
       "      <td>NaN</td>\n",
       "      <td>NaN</td>\n",
       "      <td>NaN</td>\n",
       "      <td>NaN</td>\n",
       "      <td>NaN</td>\n",
       "      <td>NaN</td>\n",
       "      <td>NaN</td>\n",
       "      <td>NaN</td>\n",
       "      <td>NaN</td>\n",
       "      <td>NaN</td>\n",
       "      <td>NaN</td>\n",
       "      <td>NaN</td>\n",
       "      <td>NaN</td>\n",
       "      <td>NaN</td>\n",
       "      <td>NaN</td>\n",
       "    </tr>\n",
       "    <tr>\n",
       "      <th>...</th>\n",
       "      <td>...</td>\n",
       "      <td>...</td>\n",
       "      <td>...</td>\n",
       "      <td>...</td>\n",
       "      <td>...</td>\n",
       "      <td>...</td>\n",
       "      <td>...</td>\n",
       "      <td>...</td>\n",
       "      <td>...</td>\n",
       "      <td>...</td>\n",
       "      <td>...</td>\n",
       "      <td>...</td>\n",
       "      <td>...</td>\n",
       "      <td>...</td>\n",
       "      <td>...</td>\n",
       "      <td>...</td>\n",
       "      <td>...</td>\n",
       "      <td>...</td>\n",
       "      <td>...</td>\n",
       "      <td>...</td>\n",
       "      <td>...</td>\n",
       "      <td>...</td>\n",
       "      <td>...</td>\n",
       "      <td>...</td>\n",
       "      <td>...</td>\n",
       "      <td>...</td>\n",
       "      <td>...</td>\n",
       "      <td>...</td>\n",
       "      <td>...</td>\n",
       "      <td>...</td>\n",
       "      <td>...</td>\n",
       "      <td>...</td>\n",
       "      <td>...</td>\n",
       "      <td>...</td>\n",
       "      <td>...</td>\n",
       "      <td>...</td>\n",
       "      <td>...</td>\n",
       "      <td>...</td>\n",
       "      <td>...</td>\n",
       "      <td>...</td>\n",
       "      <td>...</td>\n",
       "      <td>...</td>\n",
       "      <td>...</td>\n",
       "      <td>...</td>\n",
       "      <td>...</td>\n",
       "      <td>...</td>\n",
       "      <td>...</td>\n",
       "    </tr>\n",
       "    <tr>\n",
       "      <th>1408</th>\n",
       "      <td>2022</td>\n",
       "      <td>1630652</td>\n",
       "      <td>Trevion</td>\n",
       "      <td>Williams</td>\n",
       "      <td>Trevion Williams</td>\n",
       "      <td>C</td>\n",
       "      <td>79.25</td>\n",
       "      <td>6' 7.25''</td>\n",
       "      <td>80.75</td>\n",
       "      <td>6' 8.75''</td>\n",
       "      <td>264.60</td>\n",
       "      <td>86.75</td>\n",
       "      <td>7' 2.75''</td>\n",
       "      <td>108.5</td>\n",
       "      <td>9' 0.50''</td>\n",
       "      <td>10.8</td>\n",
       "      <td>9.0</td>\n",
       "      <td>10.25</td>\n",
       "      <td>27.5</td>\n",
       "      <td>30.0</td>\n",
       "      <td>12.75</td>\n",
       "      <td>3.46</td>\n",
       "      <td>3.48</td>\n",
       "      <td>NaN</td>\n",
       "      <td>None</td>\n",
       "      <td>None</td>\n",
       "      <td>None</td>\n",
       "      <td>None</td>\n",
       "      <td>None</td>\n",
       "      <td>7-25</td>\n",
       "      <td>None</td>\n",
       "      <td>None</td>\n",
       "      <td>None</td>\n",
       "      <td>None</td>\n",
       "      <td>None</td>\n",
       "      <td>None</td>\n",
       "      <td>None</td>\n",
       "      <td>None</td>\n",
       "      <td>None</td>\n",
       "      <td>None</td>\n",
       "      <td>None</td>\n",
       "      <td>None</td>\n",
       "      <td>14-30</td>\n",
       "      <td>None</td>\n",
       "      <td>None</td>\n",
       "      <td>None</td>\n",
       "      <td>11-25</td>\n",
       "    </tr>\n",
       "    <tr>\n",
       "      <th>1409</th>\n",
       "      <td>2022</td>\n",
       "      <td>1631258</td>\n",
       "      <td>Bryson</td>\n",
       "      <td>Williams</td>\n",
       "      <td>Bryson Williams</td>\n",
       "      <td>PF-C</td>\n",
       "      <td>NaN</td>\n",
       "      <td>None</td>\n",
       "      <td>NaN</td>\n",
       "      <td>None</td>\n",
       "      <td>None</td>\n",
       "      <td>NaN</td>\n",
       "      <td>None</td>\n",
       "      <td>NaN</td>\n",
       "      <td>None</td>\n",
       "      <td>NaN</td>\n",
       "      <td>NaN</td>\n",
       "      <td>NaN</td>\n",
       "      <td>NaN</td>\n",
       "      <td>NaN</td>\n",
       "      <td>NaN</td>\n",
       "      <td>NaN</td>\n",
       "      <td>NaN</td>\n",
       "      <td>NaN</td>\n",
       "      <td>None</td>\n",
       "      <td>None</td>\n",
       "      <td>None</td>\n",
       "      <td>None</td>\n",
       "      <td>None</td>\n",
       "      <td>None</td>\n",
       "      <td>None</td>\n",
       "      <td>None</td>\n",
       "      <td>None</td>\n",
       "      <td>None</td>\n",
       "      <td>None</td>\n",
       "      <td>None</td>\n",
       "      <td>None</td>\n",
       "      <td>None</td>\n",
       "      <td>None</td>\n",
       "      <td>None</td>\n",
       "      <td>None</td>\n",
       "      <td>None</td>\n",
       "      <td>None</td>\n",
       "      <td>None</td>\n",
       "      <td>None</td>\n",
       "      <td>None</td>\n",
       "      <td>None</td>\n",
       "    </tr>\n",
       "    <tr>\n",
       "      <th>1410</th>\n",
       "      <td>2022</td>\n",
       "      <td>1631109</td>\n",
       "      <td>Mark</td>\n",
       "      <td>Williams</td>\n",
       "      <td>Mark Williams</td>\n",
       "      <td>C</td>\n",
       "      <td>84.00</td>\n",
       "      <td>7' 0.00''</td>\n",
       "      <td>86.00</td>\n",
       "      <td>7' 2.00''</td>\n",
       "      <td>242.40</td>\n",
       "      <td>90.50</td>\n",
       "      <td>7' 6.50''</td>\n",
       "      <td>117.0</td>\n",
       "      <td>9' 9.00''</td>\n",
       "      <td>5.4</td>\n",
       "      <td>9.0</td>\n",
       "      <td>9.75</td>\n",
       "      <td>NaN</td>\n",
       "      <td>NaN</td>\n",
       "      <td>NaN</td>\n",
       "      <td>NaN</td>\n",
       "      <td>NaN</td>\n",
       "      <td>NaN</td>\n",
       "      <td>None</td>\n",
       "      <td>None</td>\n",
       "      <td>None</td>\n",
       "      <td>None</td>\n",
       "      <td>None</td>\n",
       "      <td>None</td>\n",
       "      <td>None</td>\n",
       "      <td>None</td>\n",
       "      <td>None</td>\n",
       "      <td>None</td>\n",
       "      <td>None</td>\n",
       "      <td>None</td>\n",
       "      <td>None</td>\n",
       "      <td>None</td>\n",
       "      <td>None</td>\n",
       "      <td>None</td>\n",
       "      <td>None</td>\n",
       "      <td>None</td>\n",
       "      <td>None</td>\n",
       "      <td>None</td>\n",
       "      <td>None</td>\n",
       "      <td>None</td>\n",
       "      <td>None</td>\n",
       "    </tr>\n",
       "    <tr>\n",
       "      <th>1411</th>\n",
       "      <td>2022</td>\n",
       "      <td>1630592</td>\n",
       "      <td>Jalen</td>\n",
       "      <td>Wilson</td>\n",
       "      <td>Jalen Wilson</td>\n",
       "      <td>SF-PF</td>\n",
       "      <td>NaN</td>\n",
       "      <td>None</td>\n",
       "      <td>NaN</td>\n",
       "      <td>None</td>\n",
       "      <td>None</td>\n",
       "      <td>NaN</td>\n",
       "      <td>None</td>\n",
       "      <td>NaN</td>\n",
       "      <td>None</td>\n",
       "      <td>NaN</td>\n",
       "      <td>NaN</td>\n",
       "      <td>NaN</td>\n",
       "      <td>NaN</td>\n",
       "      <td>NaN</td>\n",
       "      <td>NaN</td>\n",
       "      <td>NaN</td>\n",
       "      <td>NaN</td>\n",
       "      <td>NaN</td>\n",
       "      <td>None</td>\n",
       "      <td>None</td>\n",
       "      <td>None</td>\n",
       "      <td>None</td>\n",
       "      <td>None</td>\n",
       "      <td>None</td>\n",
       "      <td>None</td>\n",
       "      <td>None</td>\n",
       "      <td>None</td>\n",
       "      <td>None</td>\n",
       "      <td>None</td>\n",
       "      <td>None</td>\n",
       "      <td>None</td>\n",
       "      <td>None</td>\n",
       "      <td>None</td>\n",
       "      <td>None</td>\n",
       "      <td>None</td>\n",
       "      <td>None</td>\n",
       "      <td>None</td>\n",
       "      <td>None</td>\n",
       "      <td>None</td>\n",
       "      <td>None</td>\n",
       "      <td>None</td>\n",
       "    </tr>\n",
       "    <tr>\n",
       "      <th>1412</th>\n",
       "      <td>2022</td>\n",
       "      <td>1630855</td>\n",
       "      <td>Fanbo</td>\n",
       "      <td>Zeng</td>\n",
       "      <td>Fanbo Zeng</td>\n",
       "      <td>SF-PF</td>\n",
       "      <td>NaN</td>\n",
       "      <td>None</td>\n",
       "      <td>NaN</td>\n",
       "      <td>None</td>\n",
       "      <td>None</td>\n",
       "      <td>NaN</td>\n",
       "      <td>None</td>\n",
       "      <td>NaN</td>\n",
       "      <td>None</td>\n",
       "      <td>NaN</td>\n",
       "      <td>NaN</td>\n",
       "      <td>NaN</td>\n",
       "      <td>NaN</td>\n",
       "      <td>NaN</td>\n",
       "      <td>NaN</td>\n",
       "      <td>NaN</td>\n",
       "      <td>NaN</td>\n",
       "      <td>NaN</td>\n",
       "      <td>None</td>\n",
       "      <td>None</td>\n",
       "      <td>None</td>\n",
       "      <td>None</td>\n",
       "      <td>None</td>\n",
       "      <td>None</td>\n",
       "      <td>None</td>\n",
       "      <td>None</td>\n",
       "      <td>None</td>\n",
       "      <td>None</td>\n",
       "      <td>None</td>\n",
       "      <td>None</td>\n",
       "      <td>None</td>\n",
       "      <td>None</td>\n",
       "      <td>None</td>\n",
       "      <td>None</td>\n",
       "      <td>None</td>\n",
       "      <td>None</td>\n",
       "      <td>None</td>\n",
       "      <td>None</td>\n",
       "      <td>None</td>\n",
       "      <td>None</td>\n",
       "      <td>None</td>\n",
       "    </tr>\n",
       "  </tbody>\n",
       "</table>\n",
       "<p>1413 rows × 47 columns</p>\n",
       "</div>"
      ],
      "text/plain": [
       "     season player_id first_name  last_name       player_name position  \\\n",
       "0      2000      2124      Malik      Allen       Malik Allen     PF-C   \n",
       "1      2000     12019     Harold  Arceneaux  Harold Arceneaux    SG-SF   \n",
       "2      2000     12020     Lamont     Barnes     Lamont Barnes     PF-C   \n",
       "3      2000     12131      Mario      Bland       Mario Bland       PF   \n",
       "4      2000      2056     Primoz     Brezec     Primoz Brezec        C   \n",
       "...     ...       ...        ...        ...               ...      ...   \n",
       "1408   2022   1630652    Trevion   Williams  Trevion Williams        C   \n",
       "1409   2022   1631258     Bryson   Williams   Bryson Williams     PF-C   \n",
       "1410   2022   1631109       Mark   Williams     Mark Williams        C   \n",
       "1411   2022   1630592      Jalen     Wilson      Jalen Wilson    SF-PF   \n",
       "1412   2022   1630855      Fanbo       Zeng        Fanbo Zeng    SF-PF   \n",
       "\n",
       "      height_wo_shoes height_wo_shoes_ft_in  height_w_shoes  \\\n",
       "0               80.25             6' 8.25''             NaN   \n",
       "1               76.50              6' 4.5''             NaN   \n",
       "2               80.50              6' 8.5''             NaN   \n",
       "3               77.50              6' 5.5''             NaN   \n",
       "4               84.75             7' 0.75''             NaN   \n",
       "...               ...                   ...             ...   \n",
       "1408            79.25             6' 7.25''           80.75   \n",
       "1409              NaN                  None             NaN   \n",
       "1410            84.00             7' 0.00''           86.00   \n",
       "1411              NaN                  None             NaN   \n",
       "1412              NaN                  None             NaN   \n",
       "\n",
       "     height_w_shoes_ft_in  weight  wingspan wingspan_ft_in  standing_reach  \\\n",
       "0                    None     271     86.50       7' 2.5''           109.0   \n",
       "1                    None     219     80.50       6' 8.5''           103.0   \n",
       "2                    None   235.5     87.50       7' 3.5''           108.0   \n",
       "3                    None     287     84.00         7' 0''           103.0   \n",
       "4                    None     243     86.00         7' 2''           110.0   \n",
       "...                   ...     ...       ...            ...             ...   \n",
       "1408            6' 8.75''  264.60     86.75      7' 2.75''           108.5   \n",
       "1409                 None    None       NaN           None             NaN   \n",
       "1410            7' 2.00''  242.40     90.50      7' 6.50''           117.0   \n",
       "1411                 None    None       NaN           None             NaN   \n",
       "1412                 None    None       NaN           None             NaN   \n",
       "\n",
       "     standing_reach_ft_in body_fat_pct hand_length hand_width  \\\n",
       "0                  9' 1''          NaN         NaN        NaN   \n",
       "1                  8' 7''          NaN         NaN        NaN   \n",
       "2                  9' 0''          NaN         NaN        NaN   \n",
       "3                  8' 7''          NaN         NaN        NaN   \n",
       "4                  9' 2''          NaN         NaN        NaN   \n",
       "...                   ...          ...         ...        ...   \n",
       "1408            9' 0.50''         10.8         9.0      10.25   \n",
       "1409                 None          NaN         NaN        NaN   \n",
       "1410            9' 9.00''          5.4         9.0       9.75   \n",
       "1411                 None          NaN         NaN        NaN   \n",
       "1412                 None          NaN         NaN        NaN   \n",
       "\n",
       "      standing_vertical_leap  max_vertical_leap  lane_agility_time  \\\n",
       "0                       25.5               29.0              11.83   \n",
       "1                        NaN               29.0              13.80   \n",
       "2                       28.0               29.5              12.30   \n",
       "3                       27.0               31.0              13.04   \n",
       "4                       26.0               29.5              11.53   \n",
       "...                      ...                ...                ...   \n",
       "1408                    27.5               30.0              12.75   \n",
       "1409                     NaN                NaN                NaN   \n",
       "1410                     NaN                NaN                NaN   \n",
       "1411                     NaN                NaN                NaN   \n",
       "1412                     NaN                NaN                NaN   \n",
       "\n",
       "      modified_lane_agility_time  three_quarter_sprint  bench_press  \\\n",
       "0                            NaN                  3.38         13.0   \n",
       "1                            NaN                   NaN          0.0   \n",
       "2                            NaN                  3.40         10.0   \n",
       "3                            NaN                  3.47         15.0   \n",
       "4                            NaN                  3.55          NaN   \n",
       "...                          ...                   ...          ...   \n",
       "1408                        3.46                  3.48          NaN   \n",
       "1409                         NaN                   NaN          NaN   \n",
       "1410                         NaN                   NaN          NaN   \n",
       "1411                         NaN                   NaN          NaN   \n",
       "1412                         NaN                   NaN          NaN   \n",
       "\n",
       "     spot_fifteen_corner_left spot_fifteen_break_left spot_fifteen_top_key  \\\n",
       "0                         NaN                     NaN                  NaN   \n",
       "1                         NaN                     NaN                  NaN   \n",
       "2                         NaN                     NaN                  NaN   \n",
       "3                         NaN                     NaN                  NaN   \n",
       "4                         NaN                     NaN                  NaN   \n",
       "...                       ...                     ...                  ...   \n",
       "1408                     None                    None                 None   \n",
       "1409                     None                    None                 None   \n",
       "1410                     None                    None                 None   \n",
       "1411                     None                    None                 None   \n",
       "1412                     None                    None                 None   \n",
       "\n",
       "     spot_fifteen_break_right spot_fifteen_corner_right  \\\n",
       "0                         NaN                       NaN   \n",
       "1                         NaN                       NaN   \n",
       "2                         NaN                       NaN   \n",
       "3                         NaN                       NaN   \n",
       "4                         NaN                       NaN   \n",
       "...                       ...                       ...   \n",
       "1408                     None                      None   \n",
       "1409                     None                      None   \n",
       "1410                     None                      None   \n",
       "1411                     None                      None   \n",
       "1412                     None                      None   \n",
       "\n",
       "     spot_college_corner_left spot_college_break_left spot_college_top_key  \\\n",
       "0                         NaN                     NaN                  NaN   \n",
       "1                         NaN                     NaN                  NaN   \n",
       "2                         NaN                     NaN                  NaN   \n",
       "3                         NaN                     NaN                  NaN   \n",
       "4                         NaN                     NaN                  NaN   \n",
       "...                       ...                     ...                  ...   \n",
       "1408                     7-25                    None                 None   \n",
       "1409                     None                    None                 None   \n",
       "1410                     None                    None                 None   \n",
       "1411                     None                    None                 None   \n",
       "1412                     None                    None                 None   \n",
       "\n",
       "     spot_college_break_right spot_college_corner_right spot_nba_corner_left  \\\n",
       "0                         NaN                       NaN                  NaN   \n",
       "1                         NaN                       NaN                  NaN   \n",
       "2                         NaN                       NaN                  NaN   \n",
       "3                         NaN                       NaN                  NaN   \n",
       "4                         NaN                       NaN                  NaN   \n",
       "...                       ...                       ...                  ...   \n",
       "1408                     None                      None                 None   \n",
       "1409                     None                      None                 None   \n",
       "1410                     None                      None                 None   \n",
       "1411                     None                      None                 None   \n",
       "1412                     None                      None                 None   \n",
       "\n",
       "     spot_nba_break_left spot_nba_top_key spot_nba_break_right  \\\n",
       "0                    NaN              NaN                  NaN   \n",
       "1                    NaN              NaN                  NaN   \n",
       "2                    NaN              NaN                  NaN   \n",
       "3                    NaN              NaN                  NaN   \n",
       "4                    NaN              NaN                  NaN   \n",
       "...                  ...              ...                  ...   \n",
       "1408                None             None                 None   \n",
       "1409                None             None                 None   \n",
       "1410                None             None                 None   \n",
       "1411                None             None                 None   \n",
       "1412                None             None                 None   \n",
       "\n",
       "     spot_nba_corner_right off_drib_fifteen_break_left  \\\n",
       "0                      NaN                         NaN   \n",
       "1                      NaN                         NaN   \n",
       "2                      NaN                         NaN   \n",
       "3                      NaN                         NaN   \n",
       "4                      NaN                         NaN   \n",
       "...                    ...                         ...   \n",
       "1408                  None                        None   \n",
       "1409                  None                        None   \n",
       "1410                  None                        None   \n",
       "1411                  None                        None   \n",
       "1412                  None                        None   \n",
       "\n",
       "     off_drib_fifteen_top_key off_drib_fifteen_break_right  \\\n",
       "0                         NaN                          NaN   \n",
       "1                         NaN                          NaN   \n",
       "2                         NaN                          NaN   \n",
       "3                         NaN                          NaN   \n",
       "4                         NaN                          NaN   \n",
       "...                       ...                          ...   \n",
       "1408                     None                         None   \n",
       "1409                     None                         None   \n",
       "1410                     None                         None   \n",
       "1411                     None                         None   \n",
       "1412                     None                         None   \n",
       "\n",
       "     off_drib_college_break_left off_drib_college_top_key  \\\n",
       "0                            NaN                      NaN   \n",
       "1                            NaN                      NaN   \n",
       "2                            NaN                      NaN   \n",
       "3                            NaN                      NaN   \n",
       "4                            NaN                      NaN   \n",
       "...                          ...                      ...   \n",
       "1408                       14-30                     None   \n",
       "1409                        None                     None   \n",
       "1410                        None                     None   \n",
       "1411                        None                     None   \n",
       "1412                        None                     None   \n",
       "\n",
       "     off_drib_college_break_right on_move_fifteen on_move_college  \n",
       "0                             NaN             NaN             NaN  \n",
       "1                             NaN             NaN             NaN  \n",
       "2                             NaN             NaN             NaN  \n",
       "3                             NaN             NaN             NaN  \n",
       "4                             NaN             NaN             NaN  \n",
       "...                           ...             ...             ...  \n",
       "1408                         None            None           11-25  \n",
       "1409                         None            None            None  \n",
       "1410                         None            None            None  \n",
       "1411                         None            None            None  \n",
       "1412                         None            None            None  \n",
       "\n",
       "[1413 rows x 47 columns]"
      ]
     },
     "execution_count": 6,
     "metadata": {},
     "output_type": "execute_result"
    }
   ],
   "source": [
    "get_draft_combine_stats(proxies, None, True, conn);"
   ]
  },
  {
   "cell_type": "code",
   "execution_count": 8,
   "id": "507641f4-6f53-4c26-a011-0228e1c2c26f",
   "metadata": {
    "tags": []
   },
   "outputs": [],
   "source": [
    "get_draft_history(proxies, None, True, conn);"
   ]
  },
  {
   "cell_type": "code",
   "execution_count": 10,
   "id": "7d3596ec-7422-4a16-9a0b-d8b9c72706ba",
   "metadata": {
    "tags": []
   },
   "outputs": [],
   "source": [
    "get_team_info_common(proxies, True, conn);"
   ]
  },
  {
   "cell_type": "code",
   "execution_count": 12,
   "id": "3d3acf38-2f19-43f5-9939-07fe8645a6f0",
   "metadata": {
    "tags": []
   },
   "outputs": [
    {
     "name": "stdout",
     "output_type": "stream",
     "text": [
      "2023-02-28 23:34:29-INFO-nba_db_logger::utils|dump_db-82:: Dumping 16 database tables to csv files...\n",
      "2023-02-28 23:45:56-INFO-nba_db_logger::utils|dump_db-86:: Dumped database tables to csv files.\n"
     ]
    }
   ],
   "source": [
    "dump_db(conn);"
   ]
  },
  {
   "cell_type": "code",
   "execution_count": 17,
   "id": "ae089fc5-c3b7-4398-b6f2-b142e769b02f",
   "metadata": {
    "tags": []
   },
   "outputs": [
    {
     "name": "stdout",
     "output_type": "stream",
     "text": [
      "2023-02-28 23:50:05-INFO-nba_db_logger::utils|upload_new_db_version-70:: Uploading new database version...\n",
      "Starting upload for file nba.sqlite\n"
     ]
    },
    {
     "name": "stderr",
     "output_type": "stream",
     "text": [
      " 26%|██▋       | 570M/2.12G [10:36<27:01, 1.03MB/s]   2023-03-01 00:07:58,229 WARNING Retrying (Retry(total=9, connect=None, read=None, redirect=None, status=None)) after connection broken by 'SSLError(SSLEOFError(8, 'EOF occurred in violation of protocol (_ssl.c:2393)'))': /upload/storage/v1/b/kaggle-data-sets/o?uploadType=resumable&upload_id=ADPycdtScph-M-EMevz7Fxt5TFjBvkgWVpDhn8IeIpeQ09FHHAUk0aZfHa9_mcXziOW1u4UdEL2958ixAemVuDANs4pR\n",
      "2.67GB [58:00, 824kB/s]                                \n"
     ]
    },
    {
     "name": "stdout",
     "output_type": "stream",
     "text": [
      "Upload successful: nba.sqlite (2GB)\n",
      "Starting upload for file csv.zip\n"
     ]
    },
    {
     "name": "stderr",
     "output_type": "stream",
     "text": [
      "100%|██████████| 252M/252M [04:38<00:00, 950kB/s]    \n"
     ]
    },
    {
     "name": "stdout",
     "output_type": "stream",
     "text": [
      "Upload successful: csv.zip (252MB)\n",
      "Dataset version is being created. Please check progress at https://www.kaggle.com/wyattowalsh/basketball\n",
      "2023-03-01 00:53:20-INFO-nba_db_logger::utils|upload_new_db_version-77:: Uploaded new database version.\n"
     ]
    }
   ],
   "source": [
    "upload_new_db_version(\"new v2\")"
   ]
  },
  {
   "cell_type": "code",
   "execution_count": 19,
   "id": "e1f72fb9-0881-472d-baf1-3baa78d39534",
   "metadata": {
    "tags": []
   },
   "outputs": [],
   "source": [
    "%autoreload"
   ]
  },
  {
   "cell_type": "code",
   "execution_count": 22,
   "id": "9034c7bc-8110-4ead-b3d2-b0330187020b",
   "metadata": {
    "tags": []
   },
   "outputs": [],
   "source": [
    "from datetime import datetime"
   ]
  },
  {
   "cell_type": "code",
   "execution_count": 26,
   "id": "c0b00c54-11df-482a-8065-eee9db43b484",
   "metadata": {
    "tags": []
   },
   "outputs": [
    {
     "data": {
      "text/plain": [
       "Timestamp('2023-03-05 00:00:00')"
      ]
     },
     "execution_count": 26,
     "metadata": {},
     "output_type": "execute_result"
    }
   ],
   "source": []
  },
  {
   "cell_type": "code",
   "execution_count": 19,
   "id": "55974556-c3ca-4d7a-8f4c-ca76337cfc24",
   "metadata": {
    "tags": []
   },
   "outputs": [],
   "source": [
    "latest_db_date = pd.read_sql(\"SELECT MAX(GAME_DATE) FROM game\", conn).iloc[0, 0]"
   ]
  },
  {
   "cell_type": "code",
   "execution_count": 20,
   "id": "c06d0d59-b826-478e-ac69-b5ab201fe449",
   "metadata": {
    "tags": []
   },
   "outputs": [
    {
     "data": {
      "text/plain": [
       "Timestamp('2023-02-26 00:00:00')"
      ]
     },
     "execution_count": 20,
     "metadata": {},
     "output_type": "execute_result"
    }
   ],
   "source": [
    "pd.to_datetime(latest_db_date)"
   ]
  },
  {
   "cell_type": "code",
   "execution_count": 27,
   "id": "24c42b5c-2aa8-466c-b2ae-49f92fe6e2a6",
   "metadata": {
    "tags": []
   },
   "outputs": [
    {
     "name": "stdout",
     "output_type": "stream",
     "text": [
      "wah\n"
     ]
    }
   ],
   "source": [
    "if pd.to_datetime(latest_db_date) <= pd.to_datetime(datetime.today().date()):\n",
    "    print(\"wah\")"
   ]
  },
  {
   "cell_type": "code",
   "execution_count": null,
   "id": "de2fa327-0a65-4828-af6c-ab984527c379",
   "metadata": {},
   "outputs": [],
   "source": []
  }
 ],
 "metadata": {
  "kernelspec": {
   "display_name": "Python 3 (ipykernel)",
   "language": "python",
   "name": "python3"
  },
  "language_info": {
   "codemirror_mode": {
    "name": "ipython",
    "version": 3
   },
   "file_extension": ".py",
   "mimetype": "text/x-python",
   "name": "python",
   "nbconvert_exporter": "python",
   "pygments_lexer": "ipython3",
   "version": "3.11.1"
  }
 },
 "nbformat": 4,
 "nbformat_minor": 5
}
