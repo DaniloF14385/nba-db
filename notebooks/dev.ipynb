{
 "cells": [
  {
   "cell_type": "markdown",
   "id": "12830b2c-e3b3-4627-a0f7-33b1f4330784",
   "metadata": {},
   "source": [
    "# Development Notebook"
   ]
  },
  {
   "cell_type": "markdown",
   "id": "dae8c43f-f517-425e-a66c-98ae810974ed",
   "metadata": {},
   "source": [
    "## Setup"
   ]
  },
  {
   "cell_type": "code",
   "execution_count": 1,
   "id": "8b593580-8b4e-4f68-a5fd-3d6984fe11a8",
   "metadata": {},
   "outputs": [
    {
     "name": "stdout",
     "output_type": "stream",
     "text": [
      "/Users/wyattwalsh/Documents - Wyatt’s MacBook Air/projects/basketball-db\n"
     ]
    }
   ],
   "source": [
    "%load_ext autoreload\n",
    "%autoreload 2\n",
    "\n",
    "%cd ..\n",
    "\n",
    "%load_ext sql"
   ]
  },
  {
   "cell_type": "code",
   "execution_count": 2,
   "id": "4ef38e08-3af4-4d04-b77d-10c9b6b320c5",
   "metadata": {},
   "outputs": [],
   "source": [
    "from basketball_db.extract import get_players, get_teams, get_league_game_log_all\n",
    "from basketball_db.utils import get_db_conn, get_proxies\n",
    "\n",
    "import os\n",
    "import sqlalchemy\n",
    "import pandas as pd"
   ]
  },
  {
   "cell_type": "code",
   "execution_count": 3,
   "id": "6d474daa-6acb-483c-8177-4f2ae158561b",
   "metadata": {},
   "outputs": [
    {
     "data": {
      "text/plain": [
       "'Connected: @basketball/basketball.db'"
      ]
     },
     "execution_count": 3,
     "metadata": {},
     "output_type": "execute_result"
    }
   ],
   "source": [
    "pd.set_option('display.max_rows', 500)\n",
    "pd.set_option('display.max_columns', 500)\n",
    "\n",
    "conn_str = \"sqlite:///basketball/basketball.db\"\n",
    "sqlalchemy.create_engine(conn_str)\n",
    "\n",
    "# os.mkdir(\"basketball\")\n",
    "\n",
    "%sql sqlite:///basketball/basketball.db"
   ]
  },
  {
   "cell_type": "markdown",
   "id": "c3dbaead-9d73-4219-b985-26101445db57",
   "metadata": {},
   "source": [
    "## Development"
   ]
  },
  {
   "cell_type": "code",
   "execution_count": 4,
   "id": "a11f8e20-53b8-416f-a55f-404fc3aa3101",
   "metadata": {},
   "outputs": [
    {
     "data": {
      "text/plain": [
       "<sqlite3.Connection at 0x107e7e4d0>"
      ]
     },
     "execution_count": 4,
     "metadata": {},
     "output_type": "execute_result"
    }
   ],
   "source": [
    "conn = get_db_conn()\n",
    "conn"
   ]
  },
  {
   "cell_type": "code",
   "execution_count": 5,
   "id": "ca079e29-dda7-4ee4-88a3-1979de775522",
   "metadata": {},
   "outputs": [
    {
     "data": {
      "application/vnd.jupyter.widget-view+json": {
       "model_id": "c12224377b99493aafd77bdb01414fae",
       "version_major": 2,
       "version_minor": 0
      },
      "text/plain": [
       "Dask Apply:   0%|          | 0/16 [00:00<?, ?it/s]"
      ]
     },
     "metadata": {},
     "output_type": "display_data"
    }
   ],
   "source": [
    "proxies = get_proxies()"
   ]
  },
  {
   "cell_type": "code",
   "execution_count": 6,
   "id": "4ac4f37e-8f48-48e2-be63-744d0c5aea52",
   "metadata": {
    "tags": []
   },
   "outputs": [
    {
     "data": {
      "application/vnd.jupyter.widget-view+json": {
       "model_id": "01fafbc76ac242398752fd8c3b7aef0a",
       "version_major": 2,
       "version_minor": 0
      },
      "text/plain": [
       "Dask Apply:   0%|          | 0/16 [00:00<?, ?it/s]"
      ]
     },
     "metadata": {},
     "output_type": "display_data"
    },
    {
     "name": "stderr",
     "output_type": "stream",
     "text": [
      "Seasons: 100%|██████████████████████████████████| 77/77 [09:43<00:00,  7.58s/it]\n"
     ]
    }
   ],
   "source": [
    "get_players(True, conn)\n",
    "get_teams(True, conn)\n",
    "get_league_game_log_all(proxies, conn);"
   ]
  },
  {
   "cell_type": "code",
   "execution_count": 10,
   "id": "44ba0bca-787c-4f24-b0bd-b20afd8fc623",
   "metadata": {},
   "outputs": [
    {
     "name": "stdout",
     "output_type": "stream",
     "text": [
      " * sqlite:///basketball/basketball.db\n",
      "Done.\n"
     ]
    },
    {
     "data": {
      "text/html": [
       "<table>\n",
       "    <thead>\n",
       "        <tr>\n",
       "            <th>count(*)</th>\n",
       "        </tr>\n",
       "    </thead>\n",
       "    <tbody>\n",
       "        <tr>\n",
       "            <td>64274</td>\n",
       "        </tr>\n",
       "    </tbody>\n",
       "</table>"
      ],
      "text/plain": [
       "[(64274,)]"
      ]
     },
     "execution_count": 10,
     "metadata": {},
     "output_type": "execute_result"
    }
   ],
   "source": [
    "%%sql \n",
    "select count(*) from (select distinct game_id from game) as game_Date"
   ]
  },
  {
   "cell_type": "code",
   "execution_count": 6,
   "id": "8d71f2bc-1b72-45fe-bea9-0352fb3b36fa",
   "metadata": {},
   "outputs": [],
   "source": [
    "from basketball_db.extract import get_player_info, get_teams_details"
   ]
  },
  {
   "cell_type": "code",
   "execution_count": null,
   "id": "7e2753c5-580d-41a8-a77b-db46fbe2a65a",
   "metadata": {},
   "outputs": [],
   "source": [
    "get_player_info(proxies, True, conn)\n",
    "get_teams_details(proxies, True, conn)"
   ]
  },
  {
   "cell_type": "code",
   "execution_count": null,
   "id": "efbf99a8-63f8-46b0-8f4d-93e1b9e88428",
   "metadata": {},
   "outputs": [],
   "source": [
    "x=1"
   ]
  },
  {
   "cell_type": "code",
   "execution_count": null,
   "id": "14694ddc-8e2e-4678-99b8-f36a47743b98",
   "metadata": {},
   "outputs": [],
   "source": []
  }
 ],
 "metadata": {
  "kernelspec": {
   "display_name": "Python 3 (ipykernel)",
   "language": "python",
   "name": "python3"
  },
  "language_info": {
   "codemirror_mode": {
    "name": "ipython",
    "version": 3
   },
   "file_extension": ".py",
   "mimetype": "text/x-python",
   "name": "python",
   "nbconvert_exporter": "python",
   "pygments_lexer": "ipython3",
   "version": "3.11.0"
  }
 },
 "nbformat": 4,
 "nbformat_minor": 5
}
